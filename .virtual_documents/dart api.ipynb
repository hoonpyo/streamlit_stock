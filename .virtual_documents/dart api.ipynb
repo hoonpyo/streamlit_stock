import requests
import io
import zipfile
import xmltodict
import pandas as pd


key = 'a253d11aed3637700ae5eb8ef91aeca7f1620aac'


def corporate_code_list() :
    url = "https://opendart.fss.or.kr/api/corpCode.xml"
    resp = requests.get(url, params={'crtfc_key' : key})
    f = io.BytesIO(resp.content)
    zfile = zipfile.ZipFile(f)
    xml = zfile.read("CORPCODE.xml").decode("utf-8")
    dict_data = xmltodict.parse(xml)
    data = dict_data['result']['list']
    return pd.DataFrame(data)[['corp_code','corp_name']]


def balance_sheet(corp_name, bsns_year, report_code) :
    url = 'https://opendart.fss.or.kr/api/fnlttSinglAcnt.json'
    response = requests.get(url, params = {'crtfc_key' : key,
                                           'corp_code' : df[df.corp_name == corp_name]['corp_code'].values[0],
                                           'bsns_year' : str(bsns_year),
                                           'reprt_code' : str(report_code)})
    df_balance = pd.DataFrame(response.json()['list'])
    return df_balance


df = corporate_code_list()
df


samsung = balance_sheet('삼성전자', 2023, 11012)


samsung


samsung.columns
